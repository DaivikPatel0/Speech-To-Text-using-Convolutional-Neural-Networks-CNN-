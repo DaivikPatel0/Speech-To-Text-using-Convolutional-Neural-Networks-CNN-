{
 "cells": [
  {
   "cell_type": "markdown",
   "metadata": {},
   "source": [
    "### This notebook is used for loading the best model that we got from **Creating_Model** Notebook and using that model we will do some live predictions "
   ]
  },
  {
   "cell_type": "markdown",
   "metadata": {},
   "source": [
    "## Importing all the necessary libraries for this project"
   ]
  },
  {
   "cell_type": "markdown",
   "metadata": {},
   "source": [
    "1) Python Standard Libraries\n",
    "* os → file/directory handling.\n",
    "* `sys` - sometimes used for environment/path control.\n",
    "* `time` - measure runtime (e.g., record duration).\n",
    "* `math` - simple math ops (floor, log, etc.).\n",
    "* `warnings` - suppress warnings during runtime.\n",
    "* `base64` (b64decode) - decode audio bytes that come from the browser (JS sends audio as base64).\n",
    "\n",
    "2) Data % Visualization Libraries\n",
    "* `numpy` - array ops, convert raw audio (bytes → np.float32).\n",
    "* `matplotlib.pyplo` - visualize waveform/spectrograms after recording.\n",
    "\n",
    "3) PyTorch Core\n",
    "* `torch` - core tensor library, run model on CPU/GPU.\n",
    "* `nn` - build layers if needed (Conv2d, Linear).\n",
    "* `F` - stateless functions like F.softmax to turn logits into probabilities.\n",
    "\n",
    "4) Audio-Specific (TorchAudio)\n",
    "* `torchaudi`o - load/process audio (waveform, sample rate).\n",
    "* `T (transforms)` - resample to 16kHz, convert to log-mel spectrogram.\n",
    "* `AF (functional)` - compute delta (Δ) and delta-delta (Δ²) features.\n",
    "\n",
    "5) Colab / Browser Integration\n",
    "* `google.colab.output` - creates a bridge from browser to Python (capture mic in Colab).\n",
    "* `Javascript, display` - injects JS code inside Colab cell to access the microphone.\n",
    "\n",
    "6) Utilities\n",
    "* `Pathlib` - clean way to handle directories (ARTIFACTS / \"best_model.pth\")."
   ]
  },
  {
   "cell_type": "code",
   "execution_count": 12,
   "metadata": {
    "executionInfo": {
     "elapsed": 4,
     "status": "ok",
     "timestamp": 1755789970535,
     "user": {
      "displayName": "Daivik Patel",
      "userId": "10660872306711551061"
     },
     "user_tz": 240
    },
    "id": "4lCjeknHNDd1"
   },
   "outputs": [],
   "source": [
    "import os, sys, time, math, warnings\n",
    "from pathlib import Path\n",
    "\n",
    "import torch\n",
    "import torchaudio\n",
    "import torch.nn as nn\n",
    "import torch.nn.functional as F\n",
    "import torchaudio.transforms as T\n",
    "import torchaudio.functional as AF\n",
    "from base64 import b64decode\n",
    "from google.colab import output\n",
    "from IPython.display import Javascript, display\n",
    "import numpy as np\n",
    "import matplotlib.pyplot as plt"
   ]
  },
  {
   "cell_type": "markdown",
   "metadata": {},
   "source": [
    "## We will use the same environment as we did in **Creating_Model** notebook"
   ]
  },
  {
   "cell_type": "code",
   "execution_count": 2,
   "metadata": {
    "colab": {
     "base_uri": "https://localhost:8080/"
    },
    "executionInfo": {
     "elapsed": 458,
     "status": "ok",
     "timestamp": 1755789637449,
     "user": {
      "displayName": "Daivik Patel",
      "userId": "10660872306711551061"
     },
     "user_tz": 240
    },
    "id": "sAk7EU05N1cm",
    "outputId": "ee2c7e9a-f405-45e9-a3dc-48c9b892f6a5"
   },
   "outputs": [
    {
     "name": "stdout",
     "output_type": "stream",
     "text": [
      "Device: cuda\n",
      "CUDA: 12.6 | GPU: Tesla T4\n",
      "GPU sanity matmul: 152.8 ms\n"
     ]
    }
   ],
   "source": [
    "device = torch.device(\"cuda\" if torch.cuda.is_available() else \"cpu\")\n",
    "print(\"Device:\", device)\n",
    "if device.type == \"cuda\":\n",
    "    print(\"CUDA:\", torch.version.cuda, \"| GPU:\", torch.cuda.get_device_name(0))\n",
    "    # quick sanity\n",
    "    x = torch.randn(1024,1024,device=\"cuda\"); y = torch.randn(1024,1024,device=\"cuda\")\n",
    "    torch.cuda.synchronize(); t0 = time.time(); _ = x@y; torch.cuda.synchronize()\n",
    "    print(f\"GPU sanity matmul: {(time.time()-t0)*1000:.1f} ms\")"
   ]
  },
  {
   "cell_type": "markdown",
   "metadata": {},
   "source": [
    "## Defininf the same path where out directory is"
   ]
  },
  {
   "cell_type": "code",
   "execution_count": 3,
   "metadata": {
    "colab": {
     "base_uri": "https://localhost:8080/"
    },
    "executionInfo": {
     "elapsed": 1591,
     "status": "ok",
     "timestamp": 1755789662159,
     "user": {
      "displayName": "Daivik Patel",
      "userId": "10660872306711551061"
     },
     "user_tz": 240
    },
    "id": "WhOl5HQyN7TM",
    "outputId": "21bb5baf-925d-4955-b21d-25c81776aafd"
   },
   "outputs": [
    {
     "name": "stdout",
     "output_type": "stream",
     "text": [
      "PROJECT_ROOT: /content/drive/MyDrive/NLP_Project\n",
      "ARTIFACTS   : /content/drive/MyDrive/NLP_Project/artifacts\n",
      "BEST_CKPT   : True\n",
      "FINAL_PTH   : True\n"
     ]
    }
   ],
   "source": [
    "PROJECT_ROOT = Path(\"/content/drive/MyDrive/NLP_Project\")\n",
    "ARTIFACTS    = PROJECT_ROOT / \"artifacts\"\n",
    "CKPT_DIR     = ARTIFACTS / \"checkpoints\"\n",
    "\n",
    "BEST_CKPT    = CKPT_DIR / \"best_by_val_f1.pt\"  # contains weights + label2id\n",
    "FINAL_PTH    = ARTIFACTS / \"final_model.pth\"   # weights only (no label map)\n",
    "\n",
    "print(\"PROJECT_ROOT:\", PROJECT_ROOT)\n",
    "print(\"ARTIFACTS   :\", ARTIFACTS)\n",
    "print(\"BEST_CKPT   :\", BEST_CKPT.exists())\n",
    "print(\"FINAL_PTH   :\", FINAL_PTH.exists())"
   ]
  },
  {
   "cell_type": "markdown",
   "metadata": {},
   "source": [
    "### Model Hyperparameters (top-level constants)\n",
    "\n",
    "* `IN_CH = 3`\n",
    "We feed 3-channel spectrograms to the CNN: [log-mel, delta, delta²]. This gives the model both the spectral energy and its short-term dynamics.\n",
    "\n",
    "* `BASE_CH = 48`\n",
    "The number of feature maps in the first conv block. Higher than 32 to add model capacity (helped your accuracy).\n",
    "\n",
    "* `P_DROP = 0.10`\n",
    "Dropout probability used in blocks and head: regularizes the network to reduce overfitting.\n",
    "\n",
    "\n",
    "## DepthwiseSeparableConv (DS-Conv) block\n",
    "\n",
    "What it is: a lightweight alternative to a standard 3×3 conv.\n",
    "\n",
    "Inside the block:\n",
    "\n",
    "* Depthwise 3×3 conv `(groups=in_ch)`\n",
    "Applies one 3×3 filter per input channel (no channel mixing). It learns spatial patterns (time–frequency patterns) cheaply.\n",
    "\n",
    "* BatchNorm + ReLU\n",
    "Stabilizes activations and speeds convergence; ReLU adds nonlinearity.\n",
    "\n",
    "* Pointwise 1×1 conv\n",
    "Mixes info across channels (this is where features combine).\n",
    "\n",
    "* BatchNorm + ReLU and Dropout(p_drop)\n",
    "BN + ReLU again, then optional dropout to regularize.\n",
    "\n",
    "Why DS-Conv: gives you most of the accuracy of a full conv with far fewer parameters/compute — great for real-time KWS."
   ]
  },
  {
   "cell_type": "code",
   "execution_count": 5,
   "metadata": {
    "executionInfo": {
     "elapsed": 13,
     "status": "ok",
     "timestamp": 1755789787512,
     "user": {
      "displayName": "Daivik Patel",
      "userId": "10660872306711551061"
     },
     "user_tz": 240
    },
    "id": "bCmalrC5OBEa"
   },
   "outputs": [],
   "source": [
    "IN_CH   = 3     # [logmel, delta, delta2]\n",
    "BASE_CH = 48    # widened as per your improved run\n",
    "P_DROP  = 0.10\n",
    "\n",
    "class DepthwiseSeparableConv(nn.Module):\n",
    "    def __init__(self, in_ch, out_ch, stride=1, p_drop=0.0):\n",
    "        super().__init__()\n",
    "        self.dw   = nn.Conv2d(in_ch, in_ch, 3, stride=stride, padding=1, groups=in_ch, bias=False)\n",
    "        self.dwbn = nn.BatchNorm2d(in_ch)\n",
    "        self.pw   = nn.Conv2d(in_ch, out_ch, 1, bias=False)\n",
    "        self.pwbn = nn.BatchNorm2d(out_ch)\n",
    "        self.drop = nn.Dropout(p_drop) if p_drop > 0 else nn.Identity()\n",
    "    def forward(self, x):\n",
    "        x = F.relu(self.dwbn(self.dw(x)), inplace=True)\n",
    "        x = F.relu(self.pwbn(self.pw(x)), inplace=True)\n",
    "        return self.drop(x)"
   ]
  },
  {
   "cell_type": "code",
   "execution_count": null,
   "metadata": {},
   "outputs": [],
   "source": [
    "class DSCNN_KWS(nn.Module):\n",
    "    \"\"\"Input: [B,3,40,T] -> logits [B,num_classes]\"\"\"\n",
    "    def __init__(self, num_classes: int, in_ch: int = IN_CH, base_ch: int = BASE_CH, p_drop: float = P_DROP):\n",
    "        super().__init__()\n",
    "\n",
    "        # First 3×3 conv lifts channels from 3 → BASE_CH (48), learns low-level time-freq edges, BN + ReLU for stability and nonlinearity.\n",
    "        self.stem = nn.Sequential( \n",
    "            nn.Conv2d(in_ch, base_ch, 3, padding=1, bias=False),\n",
    "            nn.BatchNorm2d(base_ch),\n",
    "            nn.ReLU(inplace=True),\n",
    "        )\n",
    "        ch = base_ch\n",
    "        self.block1 = DepthwiseSeparableConv(ch,   ch,   stride=1, p_drop=p_drop) # keeps spatial size, refines features\n",
    "        self.block2 = DepthwiseSeparableConv(ch,   ch*2, stride=2, p_drop=p_drop); ch *= 2 # stride=2 → downsamples time/frequency by ~2×, and doubles channels (48→96).\n",
    "        self.block3 = DepthwiseSeparableConv(ch,   ch,   stride=1, p_drop=p_drop) # refines at the higher channel count.\n",
    "        self.block4 = DepthwiseSeparableConv(ch,   ch*2, stride=2, p_drop=p_drop); ch *= 2 # downsamples again (96→192 channels).\n",
    "\n",
    "        # Head + Classification\n",
    "        self.head_bn = nn.BatchNorm2d(ch)\n",
    "        self.head_dp = nn.Dropout(p_drop)\n",
    "        self.fc = nn.Linear(ch, num_classes)\n",
    "    def forward(self, x):\n",
    "        x = self.stem(x)\n",
    "        x = self.block1(x); x = self.block2(x)\n",
    "        x = self.block3(x); x = self.block4(x)\n",
    "        x = F.relu(self.head_bn(x), inplace=True)\n",
    "        x = self.head_dp(x)\n",
    "        x = x.mean(dim=(-2, -1))  # global average pool over (freq,time)\n",
    "        return self.fc(x)"
   ]
  },
  {
   "cell_type": "markdown",
   "metadata": {},
   "source": [
    "## Loading the model "
   ]
  },
  {
   "cell_type": "code",
   "execution_count": 6,
   "metadata": {
    "colab": {
     "base_uri": "https://localhost:8080/"
    },
    "executionInfo": {
     "elapsed": 783,
     "status": "ok",
     "timestamp": 1755789823091,
     "user": {
      "displayName": "Daivik Patel",
      "userId": "10660872306711551061"
     },
     "user_tz": 240
    },
    "id": "7VdtTP9tOgDT",
    "outputId": "92c84cff-3d46-4789-8acd-d9ce2416dce7"
   },
   "outputs": [
    {
     "name": "stdout",
     "output_type": "stream",
     "text": [
      "Loaded best checkpoint: epoch=34, best val F1=0.8874\n",
      "Classes: 36\n",
      "Example labels: ['__silence__', 'backward', 'bed', 'bird', 'cat', 'dog', 'down', 'eight', 'five', 'follow'] ...\n"
     ]
    }
   ],
   "source": [
    "# Ensures you actually have a saved model to load:\n",
    "# BEST_CKPT (checkpoint with extra metadata like labels & epoch), or\n",
    "# FINAL_PTH (just weights).\n",
    "assert BEST_CKPT.exists() or FINAL_PTH.exists(), \"No saved model found in artifacts.\"\n",
    "\n",
    "label2id = None\n",
    "\n",
    "# Loads the checkpoint that includes:\n",
    "#model_state (weights),\n",
    "#label2id (mapping from class name → index),\n",
    "#training metadata (epoch, best_val_f1).\n",
    "#Rebuilds the model with the correct num_classes.\n",
    "#Moves model to the right device (CPU/GPU).\n",
    "#Restores weights via load_state_dict.\n",
    "#Prints which epoch it came from and the best validation F1.\n",
    "\n",
    "if BEST_CKPT.exists():\n",
    "    ckpt = torch.load(BEST_CKPT, map_location=device)\n",
    "    label2id = ckpt[\"label2id\"]\n",
    "    id2label = {i: lbl for lbl, i in label2id.items()}\n",
    "    num_classes = len(label2id)\n",
    "    model = DSCNN_KWS(num_classes=num_classes).to(device)\n",
    "    model.load_state_dict(ckpt[\"model_state\"])\n",
    "    print(f\"Loaded best checkpoint: epoch={ckpt['epoch']}, best val F1={ckpt['best_val_f1']:.4f}\")\n",
    "else: # If you don’t have the checkpoint, we load raw weights from final_model.pth but raw weights don’t include the label map, so we require label2id.json saved during training.\n",
    "    # FINAL_PTH fallback (only weights). You MUST provide label2id somehow (e.g., store to JSON during training).\n",
    "    # Here we try to load label2id saved alongside training (optional improvement).\n",
    "    label_json = ARTIFACTS / \"label2id.json\"\n",
    "    assert label_json.exists(), \"label2id.json not found. Save label2id during training or use BEST_CKPT.\"\n",
    "    import json\n",
    "    label2id = json.load(open(label_json))\n",
    "    id2label = {i: lbl for lbl, i in label2id.items()}\n",
    "    num_classes = len(label2id)\n",
    "    model = DSCNN_KWS(num_classes=num_classes).to(device)\n",
    "    model.load_state_dict(torch.load(FINAL_PTH, map_location=device))\n",
    "    print(\"Loaded final_model.pth + label2id.json\")\n",
    "\n",
    "model.eval() # Disables dropout and uses running statistics for batch norm — required for stable predictions.\n",
    "print(\"Classes:\", num_classes)\n",
    "print(\"Example labels:\", sorted(list(label2id.keys()))[:10], \"...\")"
   ]
  },
  {
   "cell_type": "markdown",
   "metadata": {},
   "source": [
    "## Feature extraction pipeline"
   ]
  },
  {
   "cell_type": "code",
   "execution_count": 9,
   "metadata": {
    "executionInfo": {
     "elapsed": 85,
     "status": "ok",
     "timestamp": 1755789915263,
     "user": {
      "displayName": "Daivik Patel",
      "userId": "10660872306711551061"
     },
     "user_tz": 240
    },
    "id": "-TV3p0stOojo"
   },
   "outputs": [],
   "source": [
    "SAMPLE_RATE = 16000 # target sample rate (16 kHz, standard for speech)\n",
    "CLIP_SECONDS = 1.0 # clip length (1 sec per sample)\n",
    "TARGET_LEN  = int(SAMPLE_RATE * CLIP_SECONDS) # total samples (16000)\n",
    "N_MELS      = 40 # mel filterbank size\n",
    "\n",
    "mel_extractor = T.MelSpectrogram( # This is same as we created while creating the model\n",
    "    sample_rate=SAMPLE_RATE,\n",
    "    n_fft=400, hop_length=160, win_length=400,\n",
    "    n_mels=N_MELS, f_min=20, f_max=7600, power=2.0,\n",
    "    window_fn=torch.hann_window\n",
    ")\n",
    "amplitude_to_db = T.AmplitudeToDB(stype=\"power\", top_db=80.0)\n",
    "\n",
    "\n",
    "# Audio Loading & Preprocessing\n",
    "def load_wav(path, target_sr=SAMPLE_RATE): # Ensures consistent format: mono, 16 kHz.\n",
    "    wav, sr = torchaudio.load(path)\n",
    "    if wav.shape[0] > 1:\n",
    "        wav = torch.mean(wav, dim=0, keepdim=True)\n",
    "    if sr != target_sr:\n",
    "        wav = T.Resample(sr, target_sr)(wav)\n",
    "    return wav\n",
    "\n",
    "def pad_or_trim(wav, num_samples=TARGET_LEN): # Clips/pads every waveform to exactly 1 second (16k samples).\n",
    "    n = wav.shape[-1]\n",
    "    return torch.nn.functional.pad(wav, (0, num_samples - n)) if n < num_samples else wav[..., :num_samples]\n",
    "\n",
    "@torch.no_grad()\n",
    "def wav_to_logmel3(wav: torch.Tensor) -> torch.Tensor:\n",
    "    \"\"\"\n",
    "    Returns [3, 40, T]: [logmel, delta, delta2] with per-sample channel-wise normalization.\n",
    "    \"\"\"\n",
    "    mel = mel_extractor(wav)                 # [1, 40, T]\n",
    "    logmel = amplitude_to_db(mel + 1e-10)    # [1, 40, T]\n",
    "    delta  = AF.compute_deltas(logmel, win_length=5)\n",
    "    delta2 = AF.compute_deltas(delta,   win_length=5)\n",
    "    feat = torch.cat([logmel, delta, delta2], dim=0)  # [3, 40, T]\n",
    "\n",
    "    # per-sample channel normalization\n",
    "    mean = feat.mean(dim=(-2, -1), keepdim=True)\n",
    "    std  = feat.std(dim=(-2, -1), keepdim=True).clamp_min(1e-5)\n",
    "    feat = (feat - mean) / std\n",
    "    return feat"
   ]
  },
  {
   "cell_type": "markdown",
   "metadata": {},
   "source": [
    "This function `record_audio` opens browser’s mic permission prompt from Colab, records ~seconds of audio, and saves it as a WAV file on the Colab VM (default: /content/mic.wav). Then we will pass that WAV into your preprocessing → model for a prediction.\n",
    "\n",
    "Step-by-step: how it works\n",
    "\n",
    "1) **Injects JavaScript into the notebook**\n",
    "* `Javascript(...)` defines an async `record(sec)` function that uses the Web Media APIs in your browser.\n",
    "\n",
    "2) **Requests microphone access**\n",
    "* `navigator.mediaDevices.getUserMedia({ audio: true })` shows the browser permission dialog. Recording won’t start unless you allow it.\n",
    "\n",
    "3) **Records audio for N seconds**\n",
    "* Creates a `MediaRecorder(stream)`.\n",
    "* Collects audio `chunks` while recording.\n",
    "* Waits `sec * 1000` ms, then stops the recorder.\n",
    "\n",
    "4) **Packages the recording as a WAV**\n",
    "* Combines chunks into a `Blob` with MIME `'audio/wav; codecs=PCM'`.\n",
    "* Converts the blob to an ArrayBuffer → Base64 data URL `(data:audio/wav;base64,...)`.\n",
    "\n",
    "5) **Returns the audio to Python**\n",
    "* `output.eval_js(...)` runs the JS and returns that Base64 data URL to Python.\n",
    "* Python decodes it with `b64decode`, writes bytes to disk at `out_wav`.\n",
    "\n",
    "6) **Returns the file path**\n",
    "* The function returns the string path so you can immediately load it with `torchaudio.load`."
   ]
  },
  {
   "cell_type": "code",
   "execution_count": 11,
   "metadata": {
    "colab": {
     "base_uri": "https://localhost:8080/"
    },
    "executionInfo": {
     "elapsed": 10,
     "status": "ok",
     "timestamp": 1755789952322,
     "user": {
      "displayName": "Daivik Patel",
      "userId": "10660872306711551061"
     },
     "user_tz": 240
    },
    "id": "rjyxR5S8O3E_",
    "outputId": "e9b0bcbe-ae09-4903-b9ff-a37f9aada0ac"
   },
   "outputs": [
    {
     "name": "stdout",
     "output_type": "stream",
     "text": [
      "Mic recorder ready — call record_audio(seconds=1.2)\n"
     ]
    }
   ],
   "source": [
    "def record_audio(seconds: float = 1.2, out_wav: str = \"/content/mic.wav\") -> str:\n",
    "    \"\"\"\n",
    "    Pops a mic permission dialog in your browser, records `seconds`, saves WAV to out_wav.\n",
    "    \"\"\"\n",
    "    js = Javascript(r\"\"\"\n",
    "    async function record(sec) {\n",
    "      const stream = await navigator.mediaDevices.getUserMedia({audio: true});\n",
    "      const mediaRecorder = new MediaRecorder(stream);\n",
    "      let chunks = [];\n",
    "      mediaRecorder.ondataavailable = e => chunks.push(e.data);\n",
    "      mediaRecorder.start();\n",
    "      await new Promise(r => setTimeout(r, sec * 1000));\n",
    "      mediaRecorder.stop();\n",
    "      await new Promise(r => mediaRecorder.onstop = r);\n",
    "      const blob = new Blob(chunks, {'type': 'audio/wav; codecs=PCM'});\n",
    "      const arrayBuffer = await blob.arrayBuffer();\n",
    "      const base64 = btoa(String.fromCharCode(...new Uint8Array(arrayBuffer)));\n",
    "      return 'data:audio/wav;base64,' + base64;\n",
    "    }\n",
    "    \"\"\")\n",
    "    display(js)\n",
    "    data_url = output.eval_js(f\"record({float(seconds)})\")\n",
    "    wav_bytes = b64decode(data_url.split(',')[1])\n",
    "    with open(out_wav, \"wb\") as f:\n",
    "        f.write(wav_bytes)\n",
    "    return out_wav\n",
    "\n",
    "print(\"Mic recorder ready — call record_audio(seconds=1.2)\")"
   ]
  },
  {
   "cell_type": "code",
   "execution_count": 13,
   "metadata": {
    "executionInfo": {
     "elapsed": 41,
     "status": "ok",
     "timestamp": 1755789995006,
     "user": {
      "displayName": "Daivik Patel",
      "userId": "10660872306711551061"
     },
     "user_tz": 240
    },
    "id": "5Ds5QW0zPIS8"
   },
   "outputs": [],
   "source": [
    "SILENCE_LABEL = \"__silence__\"\n",
    "ENERGY_SILENCE_DBFS = -50.0   # change to -55.0 if you want a stricter silence threshold\n",
    "\n",
    "def rms_db(wav: torch.Tensor) -> float:\n",
    "    rms = (wav.pow(2).mean().sqrt() + 1e-12).item()\n",
    "    return 20.0 * math.log10(rms + 1e-12)\n",
    "\n",
    "@torch.no_grad() \n",
    "def predict_wav(path: str, topk: int = 5, plot: bool = True): # This function is end-to-end inference wrapper for running a single WAV file through your trained DSCNN model.\n",
    "    # 1) Load & standardize\n",
    "    wav = load_wav(path) # Loads the audio (mono, resampled to 16kHz).\n",
    "    wav = pad_or_trim(wav, TARGET_LEN) # Pads/trims to exactly 1.0s (matches training).\n",
    "\n",
    "    # 2) Silence gate (energy-based, optional)\n",
    "    level_db = rms_db(wav)\n",
    "    maybe_silence = (level_db < ENERGY_SILENCE_DBFS)\n",
    "\n",
    "    # 3) Features -> model -> softmax\n",
    "    spec3 = wav_to_logmel3(wav)               # [3, 40, T]\n",
    "    X = spec3.unsqueeze(0).to(device)         # [1, 3, 40, T]\n",
    "    logits = model(X)\n",
    "    proba  = torch.softmax(logits, dim=1).squeeze(0).cpu().numpy()\n",
    "\n",
    "    # 4) Top-k\n",
    "    idxs = np.argsort(-proba)[:topk]\n",
    "    labels = [id2label[i] for i in idxs]\n",
    "    scores = [float(proba[i]) for i in idxs]\n",
    "\n",
    "    # Optional: force silence if energy is extremely low\n",
    "    if maybe_silence and SILENCE_LABEL in id2label.values():\n",
    "        sil_id = {v:k for k,v in id2label.items()}[SILENCE_LABEL]\n",
    "        labels[0] = SILENCE_LABEL\n",
    "        scores[0] = float(proba[sil_id])\n",
    "\n",
    "    # 5) Print\n",
    "    print(f\"\\nFile: {path}\")\n",
    "    print(f\"RMS level: {level_db:.1f} dBFS  | Silence gate: {ENERGY_SILENCE_DBFS:.1f} dBFS\")\n",
    "    print(\"Top predictions:\")\n",
    "    for i, (lbl, sc) in enumerate(zip(labels, scores), 1):\n",
    "        print(f\"  {i:>2}. {lbl:20s}  {sc:6.3f}\")\n",
    "\n",
    "    # 6) Visuals\n",
    "    if plot:\n",
    "        fig = plt.figure(figsize=(10, 2.2))\n",
    "        x = np.arange(wav.shape[-1]) / SAMPLE_RATE\n",
    "        plt.title(\"Recorded Waveform\")\n",
    "        plt.plot(x, wav.squeeze(0).numpy())\n",
    "        plt.xlabel(\"Time (s)\"); plt.ylabel(\"Amplitude\"); plt.tight_layout(); plt.show()\n",
    "\n",
    "        fig = plt.figure(figsize=(8, 4))\n",
    "        plt.title(\"Log-Mel (channel 0)\")\n",
    "        plt.imshow(spec3[0].numpy(), aspect=\"auto\", origin=\"lower\")\n",
    "        plt.xlabel(\"Frames\"); plt.ylabel(\"Mel bins\"); plt.colorbar(label=\"norm dB\")\n",
    "        plt.tight_layout(); plt.show()\n",
    "\n",
    "    return labels[0], scores[0] # Returns the best prediction + probability."
   ]
  },
  {
   "cell_type": "markdown",
   "metadata": {},
   "source": [
    "## Live test — speak a keyword"
   ]
  },
  {
   "cell_type": "code",
   "execution_count": 78,
   "metadata": {
    "colab": {
     "base_uri": "https://localhost:8080/",
     "height": 807
    },
    "executionInfo": {
     "elapsed": 2452,
     "status": "ok",
     "timestamp": 1755790711437,
     "user": {
      "displayName": "Daivik Patel",
      "userId": "10660872306711551061"
     },
     "user_tz": 240
    },
    "id": "N5C6vwEnPStS",
    "outputId": "3c2dffac-0a7c-4125-89d2-f5349081b474"
   },
   "outputs": [
    {
     "data": {
      "application/javascript": [
       "\n",
       "    async function record(sec) {\n",
       "      const stream = await navigator.mediaDevices.getUserMedia({audio: true});\n",
       "      const mediaRecorder = new MediaRecorder(stream);\n",
       "      let chunks = [];\n",
       "      mediaRecorder.ondataavailable = e => chunks.push(e.data);\n",
       "      mediaRecorder.start();\n",
       "      await new Promise(r => setTimeout(r, sec * 1000));\n",
       "      mediaRecorder.stop();\n",
       "      await new Promise(r => mediaRecorder.onstop = r);\n",
       "      const blob = new Blob(chunks, {'type': 'audio/wav; codecs=PCM'});\n",
       "      const arrayBuffer = await blob.arrayBuffer();\n",
       "      const base64 = btoa(String.fromCharCode(...new Uint8Array(arrayBuffer)));\n",
       "      return 'data:audio/wav;base64,' + base64;\n",
       "    }\n",
       "    "
      ],
      "text/plain": [
       "<IPython.core.display.Javascript object>"
      ]
     },
     "metadata": {},
     "output_type": "display_data"
    },
    {
     "name": "stdout",
     "output_type": "stream",
     "text": [
      "\n",
      "File: /content/mic.wav\n",
      "RMS level: -21.7 dBFS  | Silence gate: -50.0 dBFS\n",
      "Top predictions:\n",
      "   1. backward               0.954\n",
      "   2. visual                 0.024\n",
      "   3. marvin                 0.019\n",
      "   4. __silence__            0.001\n",
      "   5. happy                  0.000\n"
     ]
    },
    {
     "data": {
      "image/png": "[encoded data removed]",
      "text/plain": [
       "<Figure size 1000x220 with 1 Axes>"
      ]
     },
     "metadata": {},
     "output_type": "display_data"
    },
    {
     "data": {
      "image/png": "[encoded data removed]",
      "text/plain": [
       "<Figure size 800x400 with 2 Axes>"
      ]
     },
     "metadata": {},
     "output_type": "display_data"
    },
    {
     "name": "stdout",
     "output_type": "stream",
     "text": [
      "\n",
      ">>> FINAL PREDICTION: backward  (confidence=0.954)\n"
     ]
    }
   ],
   "source": [
    "wav_path = record_audio(seconds=1.2, out_wav=\"/content/mic.wav\")\n",
    "pred, conf = predict_wav(wav_path, topk=5, plot=True)\n",
    "print(f\"\\n>>> FINAL PREDICTION: {pred}  (confidence={conf:.3f})\")"
   ]
  },
  {
   "cell_type": "code",
   "execution_count": null,
   "metadata": {
    "id": "H7U42JQPQMPp"
   },
   "outputs": [],
   "source": []
  }
 ],
 "metadata": {
  "accelerator": "GPU",
  "colab": {
   "authorship_tag": "ABX9TyPJBtZoNbBJEiQ7scLAnIJj",
   "gpuType": "T4",
   "machine_shape": "hm",
   "mount_file_id": "1d_fkdf4bxSmOvYeBWXihKyfq-02x4Ol2",
   "provenance": []
  },
  "kernelspec": {
   "display_name": "Python 3 (ipykernel)",
   "language": "python",
   "name": "python3"
  },
  "language_info": {
   "codemirror_mode": {
    "name": "ipython",
    "version": 3
   },
   "file_extension": ".py",
   "mimetype": "text/x-python",
   "name": "python",
   "nbconvert_exporter": "python",
   "pygments_lexer": "ipython3",
   "version": "3.12.7"
  }
 },
 "nbformat": 4,
 "nbformat_minor": 4
}
